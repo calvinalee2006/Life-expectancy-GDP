{
 "cells": [
  {
   "cell_type": "code",
   "execution_count": 58,
   "metadata": {},
   "outputs": [
    {
     "name": "stdout",
     "output_type": "stream",
     "text": [
      "   Country  Year  Life expectancy at birth (years)           GDP\n",
      "0    Chile  2000                              77.3  7.786093e+10\n",
      "1    Chile  2001                              77.3  7.097992e+10\n",
      "2    Chile  2002                              77.8  6.973681e+10\n",
      "3    Chile  2003                              77.9  7.564346e+10\n",
      "4    Chile  2004                              78.0  9.921039e+10\n",
      "5    Chile  2005                              78.4  1.229650e+11\n",
      "6    Chile  2006                              78.9  1.547880e+11\n",
      "7    Chile  2007                              78.9  1.736060e+11\n",
      "8    Chile  2008                              79.6  1.796380e+11\n",
      "9    Chile  2009                              79.3  1.723890e+11\n",
      "10   Chile  2010                              79.1  2.185380e+11\n",
      "11   Chile  2011                              79.8  2.522520e+11\n",
      "12   Chile  2012                              79.9  2.671220e+11\n",
      "13   Chile  2013                              80.1  2.783840e+11\n",
      "14   Chile  2014                              80.3  2.609900e+11\n",
      "15   Chile  2015                              80.5  2.425180e+11\n"
     ]
    }
   ],
   "source": [
    "import pandas as pd\n",
    "countries_df = pd.read_csv(\"all_data.csv\")\n",
    "\n",
    "\n",
    "# Using this print statement, to breakdown the data of each individual country. \n",
    "print(countries_df.head(16))\n",
    "# print(countries_df.iloc[17:32])\n",
    "# print(countries_df.iloc[33:48])\n",
    "# print(countries_df.iloc[49:64])\n",
    "# print(countries_df.iloc[65:80])\n",
    "# print(countries_df.iloc[81:96])"
   ]
  },
  {
   "cell_type": "code",
   "execution_count": 57,
   "metadata": {},
   "outputs": [
    {
     "name": "stdout",
     "output_type": "stream",
     "text": [
      "       Life expectancy at birth (years)           GDP\n",
      "count                         16.000000  1.600000e+01\n",
      "mean                          78.943750  1.697888e+11\n",
      "std                            1.058911  7.687884e+10\n",
      "min                           77.300000  6.973681e+10\n",
      "25%                           77.975000  9.387303e+10\n",
      "50%                           79.000000  1.729975e+11\n",
      "75%                           79.825000  2.449515e+11\n",
      "max                           80.500000  2.783840e+11\n"
     ]
    }
   ],
   "source": [
    "# Individual status on Chile ( age, GDP(Gross Domestic Product) )\n",
    "\n",
    "chile_df = countries_df[['Life expectancy at birth (years)', 'GDP' ]].head(16).describe()\n",
    "print(chile_df)"
   ]
  },
  {
   "cell_type": "code",
   "execution_count": 5,
   "metadata": {},
   "outputs": [],
   "source": [
    "# To Explain the chart above line by line: \n",
    "\n",
    "# - There are 16 years of data provided for the chile dataset. \n",
    "\n",
    "# - The average age value calculated (mean) in the data set would be 78.9 years. This was calculated by by adding all 16 values\n",
    "# in the dataset and dividing the total by 16. 78.94375/16 = 78.9. The average GDP value calculated (mean) in the dataset\n",
    "# is 1.697888e+11 (billion) which was calculated in the same way as the age except with GDP. \n",
    "\n",
    "# - Standard deviation (std)\n",
    "# The standard deviation is a measure that indicates how much each data devates from the mean on average. You can calculate the\n",
    "# standard devation by using the formula \\[\\sigma = \\sqrt{\\frac{1}{N}\\sum_{i=1}^{N}(x_i - \\mu)^2}\\].If we were to follow the \n",
    "# equation you find the standard devation by finding the square root of each number in the age column, subtracting those numbers by\n",
    "# the mean and then adding them all up and deviding the total amount by all the numbered values in the chart. In this case, the standard\n",
    "# deviation of Life expectancy at birth (years) would be 1.05 and in GDP would be 1.697888e+11 or one hundred sixty-nine billion,\n",
    "# seven hundred eighty-eight million, eight hundred eighty-eight thousand.\n",
    "\n",
    "- Minimum Value in the column (min)\n",
    "\n",
    "\n",
    "\n"
   ]
  },
  {
   "cell_type": "code",
   "execution_count": null,
   "metadata": {},
   "outputs": [],
   "source": []
  }
 ],
 "metadata": {
  "kernelspec": {
   "display_name": "Python 3 (ipykernel)",
   "language": "python",
   "name": "python3"
  },
  "language_info": {
   "codemirror_mode": {
    "name": "ipython",
    "version": 3
   },
   "file_extension": ".py",
   "mimetype": "text/x-python",
   "name": "python",
   "nbconvert_exporter": "python",
   "pygments_lexer": "ipython3",
   "version": "3.11.4"
  }
 },
 "nbformat": 4,
 "nbformat_minor": 4
}
